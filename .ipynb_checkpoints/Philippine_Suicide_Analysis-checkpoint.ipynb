{
 "cells": [
  {
   "cell_type": "code",
   "execution_count": null,
   "id": "ab0fdb51-6693-411d-bc87-8b120bd60a06",
   "metadata": {},
   "outputs": [],
   "source": [
    "# Analyzing Suicide Trends in the Philippines using PySpark (1979-2016)\n",
    "# Kaggle Data Set: WHO Suicide Statistics: https://www.kaggle.com/datasets/szamil/who-suicide-statistics/data\n",
    "# Basic historical (1979-2016) data by country, year and demographic groups "
   ]
  },
  {
   "cell_type": "code",
   "execution_count": null,
   "id": "8c885b16-3c18-4277-b94a-e24b7d85107e",
   "metadata": {},
   "outputs": [],
   "source": [
    "# Import libraries\n",
    "from pyspark.sql import SparkSession\n",
    "import csv\n",
    "from io import StringIO\n",
    "from pyspark.sql.functions import col, when, format_number, desc\n",
    "from pyspark.sql.functions import sum, count, avg, round, regexp_extract"
   ]
  },
  {
   "cell_type": "code",
   "execution_count": null,
   "id": "516300e1-2012-4bcd-97f1-cf700eed1759",
   "metadata": {},
   "outputs": [],
   "source": [
    "# Create a SparkSession and Spark Context\n",
    "spark = SparkSession.builder.appName(\"Philippine_Suicide_Data_Analysis\").getOrCreate()\n",
    "sc = spark.sparkContext"
   ]
  },
  {
   "cell_type": "code",
   "execution_count": null,
   "id": "c7937474-1164-4755-b453-a72c6977f399",
   "metadata": {},
   "outputs": [],
   "source": [
    "# DATA DICTIONARY\n",
    "data_df = spark.read.csv(\"who_suicide_statistics.csv\", header=True, inferSchema=True)\n",
    "data_df.printSchema()\n",
    "\n",
    "num_rows = data_df.count()\n",
    "columns = data_df.columns\n",
    "num_columns = len(columns)\n",
    "\n",
    "print(\"Data Dictionary\")\n",
    "print(\"Number of rows:\", num_rows)\n",
    "print(\"Number of columns:\", num_columns)\n",
    "\n",
    "null_counts = {col_name: data_df.where(col(col_name).isNull()).count() for col_name in data_df.columns}\n",
    "for col_name, null_count in null_counts.items():\n",
    "    print(f\"Column '{col_name}': {null_count} null values\")"
   ]
  },
  {
   "cell_type": "code",
   "execution_count": null,
   "id": "0fd24d22-bdb5-4127-950a-8521ec28c44a",
   "metadata": {},
   "outputs": [],
   "source": [
    "# RDD Data Manipulation\n",
    "rdd = sc.textFile(\"who_suicide_statistics.csv\")\n",
    "print(f\"first elements of the rdd: {rdd.first()}\")\n",
    "print(f\"number of elements of the rdd: {rdd.count()}\")"
   ]
  },
  {
   "cell_type": "code",
   "execution_count": null,
   "id": "5c8f76c4-cc1c-4e25-9ad1-ec09eb4581c0",
   "metadata": {},
   "outputs": [],
   "source": [
    "# Remove header\n",
    "header = rdd.first() \n",
    "data_rdd = rdd.filter(lambda row: row != header)\n",
    "print(f\"first elements of the rdd after removing the header: {data_rdd.first()}\")\n",
    "print(f\"number of elements of the rdd after removing the header: {data_rdd.count()}\")"
   ]
  },
  {
   "cell_type": "code",
   "execution_count": null,
   "id": "f790d4bb-79b7-4d79-a0c5-f3db3722507f",
   "metadata": {},
   "outputs": [],
   "source": [
    "# Helper function to parse a CSV row.\n",
    "def parse_csv(row):\n",
    "    reader = csv.DictReader(StringIO(row), fieldnames=header.split(','))\n",
    "    return next(reader)\n",
    "\n",
    "# Parse each row into a dictionary\n",
    "parsed_rdd = data_rdd.map(parse_csv)\n",
    "\n",
    "# Filter the dataset for rows where the country is 'Philippines'\n",
    "philippines_rdd = parsed_rdd.filter(lambda row: row['country'] == 'Philippines')"
   ]
  },
  {
   "cell_type": "code",
   "execution_count": null,
   "id": "17c3f7eb-08a5-4239-a91a-fdfaa2e8bda7",
   "metadata": {},
   "outputs": [],
   "source": [
    "# Using collect() method\n",
    "print(philippines_rdd.collect())"
   ]
  },
  {
   "cell_type": "code",
   "execution_count": null,
   "id": "457aaabc-f3ec-41b8-bc22-25a6c6c69d0a",
   "metadata": {},
   "outputs": [],
   "source": [
    "# Using take() method\n",
    "print(philippines_rdd.take(10))"
   ]
  },
  {
   "cell_type": "code",
   "execution_count": null,
   "id": "5e306159-681e-42f7-a1b7-1947a1c1cc21",
   "metadata": {},
   "outputs": [],
   "source": [
    "# Empty suicides number rows\n",
    "empty_suicides_no_rdd = philippines_rdd.filter(lambda row: row['suicides_no'] == '')\n",
    "print(f\"empty suicide number rows count: {empty_suicides_no_rdd.count()}\")"
   ]
  },
  {
   "cell_type": "code",
   "execution_count": null,
   "id": "062a931f-d8f4-455a-a096-d9d99394d7e2",
   "metadata": {},
   "outputs": [],
   "source": [
    "# Filter rows with no null or empty string values\n",
    "philippines_rdd = philippines_rdd.filter(lambda d: all(v not in (None, '') for v in d.values()))\n",
    "empty_suicides_no_rdd = philippines_rdd.filter(lambda row: row['suicides_no'] == '')\n",
    "print(f\"empty suicide number rows count: {empty_suicides_no_rdd.count()}\")"
   ]
  },
  {
   "cell_type": "code",
   "execution_count": null,
   "id": "4d88f753-f06a-4453-82ed-5608059d808d",
   "metadata": {},
   "outputs": [],
   "source": [
    "# Group By\n",
    "grouped_by_age_rdd = philippines_rdd.groupBy(lambda row: row['age'])\n",
    "grouped_by_age_rdd = grouped_by_age_rdd.map(lambda x: (x[0], list(x[1])))\n",
    "flattened_rdd = grouped_by_age_rdd.flatMap(lambda x: [(x[0], entry) for entry in x[1]])\n",
    "\n",
    "# Compute suicide rates\n",
    "suicide_rates_rdd = flattened_rdd.map(lambda x: (\n",
    "    x[0],  # age group\n",
    "    float(x[1]['suicides_no']) / float(x[1]['population']) * 100000  # suicide rate per 100,000\n",
    "))\n",
    "\n",
    "# Aggregate by age group, calculate average suicide rate per age group \n",
    "# using formula: Suicide rate = Total Number of suicides per Age Group / Total Population per Age Group) × 100,000\n",
    "\n",
    "aggregated_rdd = suicide_rates_rdd.combineByKey(\n",
    "    lambda value: (value, 1),\n",
    "    lambda acc, value: (acc[0] + value, acc[1] + 1),\n",
    "    lambda acc1, acc2: (acc1[0] + acc2[0], acc1[1] + acc2[1])\n",
    ").map(lambda x: (x[0], x[1][0] / x[1][1]))\n",
    "\n",
    "# Collect and print results\n",
    "results = aggregated_rdd.collect()\n",
    "for result in results:\n",
    "    print(f\"Age Group: {result[0]}, Average Suicide Rate: {result[1]:.2f}%\")"
   ]
  },
  {
   "cell_type": "code",
   "execution_count": null,
   "id": "a50a9656-988c-479f-9082-398039963d59",
   "metadata": {},
   "outputs": [],
   "source": [
    "# Sort by suicide rate in descending order\n",
    "sorted_rdd = aggregated_rdd.sortBy(lambda x: x[1], ascending=False)\n",
    "results = sorted_rdd.collect()\n",
    "for result in results:\n",
    "    print(f\"Age Group: {result[0]}, Average Suicide Rate: {result[1]:.2f}%\")"
   ]
  },
  {
   "cell_type": "code",
   "execution_count": null,
   "id": "ae9e0883-2fa9-4f15-abbb-ab555108c8c2",
   "metadata": {},
   "outputs": [],
   "source": [
    "# Dataframe Data Manipulation\n",
    "df = spark.read.csv(\"who_suicide_statistics.csv\", header=True, inferSchema=True)\n",
    "df.printSchema()"
   ]
  },
  {
   "cell_type": "code",
   "execution_count": null,
   "id": "45151d28-61d4-4ada-9d42-dbb464e04fa9",
   "metadata": {},
   "outputs": [],
   "source": [
    "# Show the first few rows of the DataFrame\n",
    "print(\"Before dropping nulls:\")\n",
    "df.show()"
   ]
  },
  {
   "cell_type": "code",
   "execution_count": null,
   "id": "5c8ab4cc-1462-415c-a833-1364131aa8d9",
   "metadata": {},
   "outputs": [],
   "source": [
    "# Drop rows where any of the specified columns have null values\n",
    "columns_to_check = df.columns\n",
    "cleaned_df = df.dropna(subset=columns_to_check)\n",
    "print(\"After dropping nulls:\")\n",
    "cleaned_df.show()"
   ]
  },
  {
   "cell_type": "code",
   "execution_count": null,
   "id": "2eb04104-3bb4-4133-b480-cf2fe21c8b7d",
   "metadata": {},
   "outputs": [],
   "source": [
    "# Show the first few rows of the DataFrame before filtering\n",
    "print(\"Before filtering:\")\n",
    "cleaned_df.show()"
   ]
  },
  {
   "cell_type": "code",
   "execution_count": null,
   "id": "4e7902c7-5f4e-43e3-9b67-3378255cf3a7",
   "metadata": {},
   "outputs": [],
   "source": [
    "# Filter\n",
    "# Filter the DataFrame to only include rows where the country is \"Philippines\"\n",
    "filtered_df = cleaned_df.dropDuplicates().filter(df['country'] == 'Philippines')\n",
    "print(\"After filtering for Philippines:\")\n",
    "filtered_df.show()"
   ]
  },
  {
   "cell_type": "code",
   "execution_count": null,
   "id": "0779918c-e0e5-47f0-85d1-88050bf2413f",
   "metadata": {},
   "outputs": [],
   "source": [
    "# Add column called suicide rate\n",
    "# using formula: Suicide rate = ( suicides number / population ) × 100,000\n",
    "\n",
    "filtered_df = filtered_df.withColumn(\"suicide_rate\", (col(\"suicides_no\") / col(\"population\")) * 100000 )\n",
    "filtered_df = filtered_df.withColumn(\"suicide_rate\", format_number(\"suicide_rate\", 2))\n",
    "filtered_df.show()"
   ]
  },
  {
   "cell_type": "code",
   "execution_count": null,
   "id": "77613e98-233c-4eeb-8bc1-59a8da8e0e3a",
   "metadata": {},
   "outputs": [],
   "source": [
    "# Select Distinct Age Groups\n",
    "\n",
    "select_age_groups_df = filtered_df.select(\"age\").distinct()\n",
    "select_age_groups_df.show()"
   ]
  },
  {
   "cell_type": "code",
   "execution_count": null,
   "id": "90092510-bbf0-4cfe-b977-a737ac8f2185",
   "metadata": {},
   "outputs": [],
   "source": [
    "# Group By Age\n",
    "\n",
    "# Cast the 'suicides_no' column to integers, 'suicide_rate' column to float (or double)\n",
    "filtered_df = filtered_df.withColumn('suicides_no', col('suicides_no').cast('integer'))\n",
    "filtered_df = filtered_df.withColumn('suicide_rate', col('suicide_rate').cast('double'))\n",
    "\n",
    "# Group by the 'age' column, sum the 'suicides_no' column, and get the average of the 'suicide_rate' column\n",
    "grouped_by_age_df = filtered_df.groupBy('age').agg(\n",
    "    sum('suicides_no').alias('total_suicides_no'),\n",
    "    round(avg('suicide_rate'), 2).alias('average_suicide_rate')\n",
    ")\n",
    "\n",
    "grouped_by_age_df.show()"
   ]
  },
  {
   "cell_type": "code",
   "execution_count": null,
   "id": "42ec3d7a-a19b-4487-97b0-7d1c07dcadad",
   "metadata": {},
   "outputs": [],
   "source": [
    "# Order By \"total_suicides_no\" descending\n",
    "grouped_by_age_df = grouped_by_age_df.orderBy(\"total_suicides_no\", ascending=False)\n",
    "print(\"Ordered age groups by most number of suicides\")\n",
    "grouped_by_age_df.show()"
   ]
  },
  {
   "cell_type": "code",
   "execution_count": null,
   "id": "73244746-bc91-4da9-9eac-1a85e251d240",
   "metadata": {},
   "outputs": [],
   "source": [
    "# Order By \"average_suicide_rate\" descending\n",
    "grouped_by_age_df = grouped_by_age_df.orderBy(\"average_suicide_rate\", ascending=False)\n",
    "print(\"Ordered age groups by average suicide rate per 100 000 population\")\n",
    "grouped_by_age_df.show()"
   ]
  },
  {
   "cell_type": "code",
   "execution_count": null,
   "id": "2611e2c3-1c89-4804-b7ff-74184b6525da",
   "metadata": {},
   "outputs": [],
   "source": [
    "# Group By sex\n",
    "\n",
    "# Group by the 'sex' column, sum the 'suicides_no' column, and get the average of the 'suicide_rate' column\n",
    "grouped_by_sex_df = filtered_df.groupBy('sex').agg(\n",
    "    sum('suicides_no').alias('total_suicides_no'),\n",
    "    round(avg('suicide_rate'), 2).alias('average_suicide_rate')\n",
    ")\n",
    "\n",
    "# Show the grouped DataFrame\n",
    "grouped_by_sex_df.show()"
   ]
  },
  {
   "cell_type": "code",
   "execution_count": null,
   "id": "44673e6f-aee9-4f9b-a975-ec4b771b364c",
   "metadata": {},
   "outputs": [],
   "source": [
    "# Order By \"average_suicide_rate\" descending\n",
    "grouped_by_sex_df = grouped_by_sex_df.orderBy(col('average_suicide_rate').desc())\n",
    "grouped_by_sex_df.show()"
   ]
  },
  {
   "cell_type": "code",
   "execution_count": null,
   "id": "5f88f188-dce7-4779-9054-d3f011525aa5",
   "metadata": {},
   "outputs": [],
   "source": [
    "# Bar plot to compare suicide counts across age groups and genders\n",
    "import seaborn as sns\n",
    "import matplotlib.pyplot as plt\n",
    "\n",
    "# Define a function to extract the lower bound of the age range\n",
    "def extract_lower_bound(age_range):\n",
    "    if age_range == '75+':\n",
    "        return 75  # Return a specific value for \"75+\"\n",
    "    else:\n",
    "        return int(age_range.split('-')[0])\n",
    "    \n",
    "filtered_df_age_ordered = filtered_df.toPandas()\n",
    "\n",
    "# Convert the 'age' column to numerical format\n",
    "filtered_df_age_ordered['age_numeric'] = filtered_df_age_ordered['age'].apply(lambda x: extract_lower_bound(x.split()[0]))\n",
    "\n",
    "# Order the DataFrame by the numerical age values in descending order\n",
    "filtered_df_age_ordered = filtered_df_age_ordered.sort_values(by='age_numeric')\n",
    "\n",
    "sns.barplot(data = filtered_df_age_ordered, x='age', y='suicide_rate', hue='sex')\n",
    "plt.title('Suicide Rate by Age Group and Gender in the Philippines from 1992-2011')\n",
    "plt.xlabel('Age Group')\n",
    "plt.xticks(rotation=45)\n",
    "plt.ylabel('Suicide Rate Standardized by 100,000')\n",
    "plt.show()"
   ]
  },
  {
   "cell_type": "code",
   "execution_count": null,
   "id": "ea759860-b9d6-45c7-b53c-6d02ea7e6e97",
   "metadata": {},
   "outputs": [],
   "source": [
    "# Group By year\n",
    "\n",
    "# Group by the 'year' column, sum the 'suicides_no' column, and get the average of the 'suicide_rate' column\n",
    "grouped_by_year_df = filtered_df.groupBy('year').agg(\n",
    "    sum('suicides_no').alias('total_suicides_no'),\n",
    "    round(avg('suicide_rate'), 2).alias('average_suicide_rate')\n",
    ")\n",
    "\n",
    "# Show the grouped DataFrame\n",
    "grouped_by_year_df.show()"
   ]
  },
  {
   "cell_type": "code",
   "execution_count": null,
   "id": "b6d5b56e-371a-492a-b46f-5093c85641b0",
   "metadata": {},
   "outputs": [],
   "source": [
    "# Order By year ascending\n",
    "grouped_by_year_df = grouped_by_year_df.orderBy(col('year').desc())\n",
    "grouped_by_year_df.show()"
   ]
  },
  {
   "cell_type": "code",
   "execution_count": null,
   "id": "0c76e00e-4679-4ce8-8a6b-81ae653d64e8",
   "metadata": {},
   "outputs": [],
   "source": [
    "# Line plot\n",
    "sns.lineplot(data=filtered_df_age_ordered, x='year', y='suicide_rate', hue='age')\n",
    "plt.xticks(filtered_df_age_ordered['year'].unique(), rotation=45)\n",
    "plt.title('Suicide Trends by Age Group in the Philippines Over Years')\n",
    "plt.xlabel('Year')\n",
    "plt.ylabel('Suicide Rate Standardized by 100,000')\n",
    "plt.show()"
   ]
  },
  {
   "cell_type": "code",
   "execution_count": null,
   "id": "b8f7a2fb-77c0-4ef3-b821-7b5031b8c1fc",
   "metadata": {},
   "outputs": [],
   "source": [
    "# Questions\n",
    "# 1. What age group has the highest suicide rate in the Philippines throughout the years?\n",
    "# 2. Are Filipino men more likely to commit suicide than Filipino women?\n",
    "# 3. In what year from 1992-2011 has the highest recorded number of suicide in the Philippines? lowest? ( with constraints for unavailable data)\n",
    "# 4. In what year from 1992-2011 has the highest measured suicide rate in the Philippines? lowest? (with constraints for unavailable data)"
   ]
  },
  {
   "cell_type": "code",
   "execution_count": null,
   "id": "37be593d-3799-44d2-ba56-597496b3f44f",
   "metadata": {},
   "outputs": [],
   "source": [
    "# SQL Queries\n",
    "\n",
    "# 1. What age group has the highest suicide rate in the Philippines throughout the years?\n",
    "\n",
    "filtered_df.createOrReplaceTempView(\"temp_view1\")\n",
    "query_result = spark.sql(\"\"\"\n",
    "    SELECT age, ROUND(AVG(suicide_rate), 2) AS avg_suicide_rate\n",
    "    FROM temp_view1\n",
    "    WHERE country = 'Philippines'\n",
    "    GROUP BY age\n",
    "    ORDER BY avg_suicide_rate DESC\n",
    "    LIMIT 1\n",
    "\"\"\")\n",
    "query_result.show()"
   ]
  },
  {
   "cell_type": "code",
   "execution_count": null,
   "id": "816e227f-9173-47ed-81e9-402afc6e9751",
   "metadata": {},
   "outputs": [],
   "source": [
    "# 2. Are Filipino men more likely to commit suicide than Filipino women? \n",
    "\n",
    "filtered_df.createOrReplaceTempView(\"temp_view2\")\n",
    "query_result = spark.sql(\"\"\"\n",
    "    SELECT sex, ROUND(AVG(suicide_rate), 2) AS avg_suicide_rate\n",
    "    FROM temp_view2\n",
    "    WHERE country = 'Philippines'\n",
    "    GROUP BY sex\n",
    "    ORDER BY avg_suicide_rate DESC\n",
    "\"\"\")\n",
    "\n",
    "# Show the result\n",
    "query_result.show()"
   ]
  },
  {
   "cell_type": "code",
   "execution_count": null,
   "id": "ccda2250-ee35-4a60-b45e-9892c604681c",
   "metadata": {},
   "outputs": [],
   "source": [
    "# 3. In what year from 1992-2011 has the highest recorded number of suicide in the Philippines? lowest? ( with constraints for unavailable data)\n",
    "\n",
    "# For the highest recorded number of suicides\n",
    "filtered_df.createOrReplaceTempView(\"temp_view3\")\n",
    "query_result_highest = spark.sql(\"\"\"\n",
    "    SELECT year, SUM(suicides_no) AS total_suicides\n",
    "    FROM temp_view3\n",
    "    WHERE country = 'Philippines' AND year BETWEEN 1992 AND 2011\n",
    "    GROUP BY year\n",
    "    ORDER BY total_suicides DESC\n",
    "    LIMIT 1\n",
    "\"\"\")\n",
    "\n",
    "print(\"The highest recorded number of suicide in the Philippines from 1992-2011\")\n",
    "query_result_highest.show()\n",
    "\n",
    "# For the lowest recorded number of suicides\n",
    "filtered_df.createOrReplaceTempView(\"temp_view4\")\n",
    "query_result_highest = spark.sql(\"\"\"\n",
    "    SELECT year, SUM(suicides_no) AS total_suicides\n",
    "    FROM temp_view4\n",
    "    WHERE country = 'Philippines' AND year BETWEEN 1992 AND 2011\n",
    "    GROUP BY year\n",
    "    ORDER BY total_suicides\n",
    "    LIMIT 1\n",
    "\"\"\")\n",
    "\n",
    "print(\"The lowest recorded number of suicide in the Philippines from 1992-2011\")\n",
    "query_result_highest.show()\n"
   ]
  },
  {
   "cell_type": "code",
   "execution_count": null,
   "id": "cd091888-f0a5-4a9a-b300-e9f00c8bce8b",
   "metadata": {},
   "outputs": [],
   "source": [
    "# 4. In what year from 1992-2011 has the highest measured suicide rate in the Philippines? lowest? (with constraints for unavailable data)\n",
    "\n",
    "# For the highest recorded suicide rate\n",
    "query_result_highest = spark.sql(\"\"\"\n",
    "    SELECT year, AVG(suicide_rate) AS avg_suicide_rate\n",
    "    FROM temp_view3\n",
    "    WHERE country = 'Philippines' AND year BETWEEN 1992 AND 2011\n",
    "    GROUP BY year\n",
    "    ORDER BY avg_suicide_rate DESC\n",
    "    LIMIT 1\n",
    "\"\"\")\n",
    "\n",
    "print(\"The year with the highest recorded suicide rate in the Philippines from 1992-2011:\")\n",
    "query_result_highest.show()\n",
    "\n",
    "# For the lowest recorded suicide rate\n",
    "query_result_lowest = spark.sql(\"\"\"\n",
    "    SELECT year, AVG(suicide_rate) AS avg_suicide_rate\n",
    "    FROM temp_view4\n",
    "    WHERE country = 'Philippines' AND year BETWEEN 1992 AND 2011\n",
    "    GROUP BY year\n",
    "    ORDER BY avg_suicide_rate ASC\n",
    "    LIMIT 1\n",
    "\"\"\")\n",
    "\n",
    "print(\"The year with the lowest recorded suicide rate in the Philippines from 1992-2011:\")\n",
    "query_result_lowest.show()"
   ]
  },
  {
   "cell_type": "code",
   "execution_count": null,
   "id": "60546390-fc7d-4a0e-8ad2-a6df34506524",
   "metadata": {},
   "outputs": [],
   "source": [
    "spark.stop()"
   ]
  },
  {
   "cell_type": "code",
   "execution_count": null,
   "id": "ef2785d9-c6ac-4700-baba-c76080453ab6",
   "metadata": {},
   "outputs": [],
   "source": []
  }
 ],
 "metadata": {
  "kernelspec": {
   "display_name": "Python 3 (ipykernel)",
   "language": "python",
   "name": "python3"
  },
  "language_info": {
   "codemirror_mode": {
    "name": "ipython",
    "version": 3
   },
   "file_extension": ".py",
   "mimetype": "text/x-python",
   "name": "python",
   "nbconvert_exporter": "python",
   "pygments_lexer": "ipython3",
   "version": "3.10.8"
  }
 },
 "nbformat": 4,
 "nbformat_minor": 5
}
