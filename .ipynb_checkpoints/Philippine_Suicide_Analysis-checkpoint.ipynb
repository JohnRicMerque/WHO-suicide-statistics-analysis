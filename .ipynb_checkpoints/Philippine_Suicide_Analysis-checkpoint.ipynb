{
 "cells": [
  {
   "cell_type": "code",
   "execution_count": 1,
   "id": "ab0fdb51-6693-411d-bc87-8b120bd60a06",
   "metadata": {},
   "outputs": [],
   "source": [
    "# Analyzing Suicide Trends in the Philippines using PySpark (1979-2016) "
   ]
  },
  {
   "cell_type": "code",
   "execution_count": 2,
   "id": "8c885b16-3c18-4277-b94a-e24b7d85107e",
   "metadata": {},
   "outputs": [],
   "source": [
    "# Import libraries\n",
    "from pyspark.sql import SparkSession\n",
    "import csv\n",
    "from io import StringIO\n",
    "from pyspark.sql.functions import col\n",
    "from pyspark.sql.functions import sum, count"
   ]
  },
  {
   "cell_type": "code",
   "execution_count": 3,
   "id": "516300e1-2012-4bcd-97f1-cf700eed1759",
   "metadata": {},
   "outputs": [],
   "source": [
    "# Create a SparkSession\n",
    "spark = SparkSession.builder.appName(\"Philippine_Suicide_Data_Analysis\").getOrCreate()\n",
    "\n",
    "# Create a SparkContext\n",
    "sc = spark.sparkContext"
   ]
  },
  {
   "cell_type": "code",
   "execution_count": 4,
   "id": "0fd24d22-bdb5-4127-950a-8521ec28c44a",
   "metadata": {},
   "outputs": [
    {
     "name": "stdout",
     "output_type": "stream",
     "text": [
      "first elements of the rdd: country,year,sex,age,suicides_no,population\n",
      "number of elements of the rdd: 43777\n"
     ]
    }
   ],
   "source": [
    "# RDD Data Manipulation\n",
    "rdd = sc.textFile(\"who_suicide_statistics.csv\")\n",
    "print(f\"first elements of the rdd: {rdd.first()}\")\n",
    "print(f\"number of elements of the rdd: {rdd.count()}\")"
   ]
  },
  {
   "cell_type": "code",
   "execution_count": 5,
   "id": "5c8f76c4-cc1c-4e25-9ad1-ec09eb4581c0",
   "metadata": {},
   "outputs": [
    {
     "name": "stdout",
     "output_type": "stream",
     "text": [
      "first elements of the rdd after removing the header: Albania,1985,female,15-24 years,,277900\n",
      "number of elements of the rdd after removing the header: 43776\n"
     ]
    }
   ],
   "source": [
    "# Remove header\n",
    "header = rdd.first() \n",
    "data_rdd = rdd.filter(lambda row: row != header)\n",
    "print(f\"first elements of the rdd after removing the header: {data_rdd.first()}\")\n",
    "print(f\"number of elements of the rdd after removing the header: {data_rdd.count()}\")"
   ]
  },
  {
   "cell_type": "code",
   "execution_count": 6,
   "id": "f790d4bb-79b7-4d79-a0c5-f3db3722507f",
   "metadata": {},
   "outputs": [],
   "source": [
    "# Helper function to parse a CSV row.\n",
    "def parse_csv(row):\n",
    "    reader = csv.DictReader(StringIO(row), fieldnames=header.split(','))\n",
    "    return next(reader)\n",
    "\n",
    "# Parse each row into a dictionary\n",
    "parsed_rdd = data_rdd.map(parse_csv)\n",
    "\n",
    "# Filter the dataset for rows where the country is 'Philippines'\n",
    "philippines_rdd = parsed_rdd.filter(lambda row: row['country'] == 'Philippines')"
   ]
  },
  {
   "cell_type": "code",
   "execution_count": 7,
   "id": "17c3f7eb-08a5-4239-a91a-fdfaa2e8bda7",
   "metadata": {},
   "outputs": [
    {
     "name": "stdout",
     "output_type": "stream",
     "text": [
      "[{'country': 'Philippines', 'year': '1980', 'sex': 'female', 'age': '15-24 years', 'suicides_no': '', 'population': '5015000'}, {'country': 'Philippines', 'year': '1980', 'sex': 'female', 'age': '25-34 years', 'suicides_no': '', 'population': '3417900'}, {'country': 'Philippines', 'year': '1980', 'sex': 'female', 'age': '35-54 years', 'suicides_no': '', 'population': '3865100'}, {'country': 'Philippines', 'year': '1980', 'sex': 'female', 'age': '5-14 years', 'suicides_no': '', 'population': '6017800'}, {'country': 'Philippines', 'year': '1980', 'sex': 'female', 'age': '55-74 years', 'suicides_no': '', 'population': '1732900'}, {'country': 'Philippines', 'year': '1980', 'sex': 'female', 'age': '75+ years', 'suicides_no': '', 'population': '264600'}, {'country': 'Philippines', 'year': '1980', 'sex': 'male', 'age': '15-24 years', 'suicides_no': '', 'population': '4907900'}, {'country': 'Philippines', 'year': '1980', 'sex': 'male', 'age': '25-34 years', 'suicides_no': '', 'population': '3186300'}, {'country': 'Philippines', 'year': '1980', 'sex': 'male', 'age': '35-54 years', 'suicides_no': '', 'population': '3424500'}, {'country': 'Philippines', 'year': '1980', 'sex': 'male', 'age': '5-14 years', 'suicides_no': '', 'population': '6816700'}, {'country': 'Philippines', 'year': '1980', 'sex': 'male', 'age': '55-74 years', 'suicides_no': '', 'population': '1369800'}, {'country': 'Philippines', 'year': '1980', 'sex': 'male', 'age': '75+ years', 'suicides_no': '', 'population': '209500'}, {'country': 'Philippines', 'year': '1981', 'sex': 'female', 'age': '15-24 years', 'suicides_no': '', 'population': '5365000'}, {'country': 'Philippines', 'year': '1981', 'sex': 'female', 'age': '25-34 years', 'suicides_no': '', 'population': '3752900'}, {'country': 'Philippines', 'year': '1981', 'sex': 'female', 'age': '35-54 years', 'suicides_no': '', 'population': '3938300'}, {'country': 'Philippines', 'year': '1981', 'sex': 'female', 'age': '5-14 years', 'suicides_no': '', 'population': '6206200'}, {'country': 'Philippines', 'year': '1981', 'sex': 'female', 'age': '55-74 years', 'suicides_no': '', 'population': '1556800'}, {'country': 'Philippines', 'year': '1981', 'sex': 'female', 'age': '75+ years', 'suicides_no': '', 'population': '247200'}, {'country': 'Philippines', 'year': '1981', 'sex': 'male', 'age': '15-24 years', 'suicides_no': '', 'population': '5468000'}, {'country': 'Philippines', 'year': '1981', 'sex': 'male', 'age': '25-34 years', 'suicides_no': '', 'population': '3729800'}, {'country': 'Philippines', 'year': '1981', 'sex': 'male', 'age': '35-54 years', 'suicides_no': '', 'population': '3830900'}, {'country': 'Philippines', 'year': '1981', 'sex': 'male', 'age': '5-14 years', 'suicides_no': '', 'population': '6393500'}, {'country': 'Philippines', 'year': '1981', 'sex': 'male', 'age': '55-74 years', 'suicides_no': '', 'population': '1485700'}, {'country': 'Philippines', 'year': '1981', 'sex': 'male', 'age': '75+ years', 'suicides_no': '', 'population': '172800'}, {'country': 'Philippines', 'year': '1983', 'sex': 'female', 'age': '15-24 years', 'suicides_no': '', 'population': '5399300'}, {'country': 'Philippines', 'year': '1983', 'sex': 'female', 'age': '25-34 years', 'suicides_no': '', 'population': '3939600'}, {'country': 'Philippines', 'year': '1983', 'sex': 'female', 'age': '35-54 years', 'suicides_no': '', 'population': '4137900'}, {'country': 'Philippines', 'year': '1983', 'sex': 'female', 'age': '5-14 years', 'suicides_no': '', 'population': '6546600'}, {'country': 'Philippines', 'year': '1983', 'sex': 'female', 'age': '55-74 years', 'suicides_no': '', 'population': '1732600'}, {'country': 'Philippines', 'year': '1983', 'sex': 'female', 'age': '75+ years', 'suicides_no': '', 'population': '274100'}, {'country': 'Philippines', 'year': '1983', 'sex': 'male', 'age': '15-24 years', 'suicides_no': '', 'population': '5247600'}, {'country': 'Philippines', 'year': '1983', 'sex': 'male', 'age': '25-34 years', 'suicides_no': '', 'population': '3837400'}, {'country': 'Philippines', 'year': '1983', 'sex': 'male', 'age': '35-54 years', 'suicides_no': '', 'population': '4166400'}, {'country': 'Philippines', 'year': '1983', 'sex': 'male', 'age': '5-14 years', 'suicides_no': '', 'population': '6930700'}, {'country': 'Philippines', 'year': '1983', 'sex': 'male', 'age': '55-74 years', 'suicides_no': '', 'population': '1637900'}, {'country': 'Philippines', 'year': '1983', 'sex': 'male', 'age': '75+ years', 'suicides_no': '', 'population': '257400'}, {'country': 'Philippines', 'year': '1992', 'sex': 'female', 'age': '15-24 years', 'suicides_no': '57', 'population': '6366294'}, {'country': 'Philippines', 'year': '1992', 'sex': 'female', 'age': '25-34 years', 'suicides_no': '16', 'population': '4932715'}, {'country': 'Philippines', 'year': '1992', 'sex': 'female', 'age': '35-54 years', 'suicides_no': '21', 'population': '5529627'}, {'country': 'Philippines', 'year': '1992', 'sex': 'female', 'age': '5-14 years', 'suicides_no': '0', 'population': '8129872'}, {'country': 'Philippines', 'year': '1992', 'sex': 'female', 'age': '55-74 years', 'suicides_no': '7', 'population': '2109209'}, {'country': 'Philippines', 'year': '1992', 'sex': 'female', 'age': '75+ years', 'suicides_no': '2', 'population': '385751'}, {'country': 'Philippines', 'year': '1992', 'sex': 'male', 'age': '15-24 years', 'suicides_no': '86', 'population': '6622107'}, {'country': 'Philippines', 'year': '1992', 'sex': 'male', 'age': '25-34 years', 'suicides_no': '66', 'population': '5080108'}, {'country': 'Philippines', 'year': '1992', 'sex': 'male', 'age': '35-54 years', 'suicides_no': '60', 'population': '5583152'}, {'country': 'Philippines', 'year': '1992', 'sex': 'male', 'age': '5-14 years', 'suicides_no': '0', 'population': '8483426'}, {'country': 'Philippines', 'year': '1992', 'sex': 'male', 'age': '55-74 years', 'suicides_no': '26', 'population': '1817237'}, {'country': 'Philippines', 'year': '1992', 'sex': 'male', 'age': '75+ years', 'suicides_no': '6', 'population': '265186'}, {'country': 'Philippines', 'year': '1993', 'sex': 'female', 'age': '15-24 years', 'suicides_no': '169', 'population': '6509080'}, {'country': 'Philippines', 'year': '1993', 'sex': 'female', 'age': '25-34 years', 'suicides_no': '86', 'population': '5051261'}, {'country': 'Philippines', 'year': '1993', 'sex': 'female', 'age': '35-54 years', 'suicides_no': '54', 'population': '5754827'}, {'country': 'Philippines', 'year': '1993', 'sex': 'female', 'age': '5-14 years', 'suicides_no': '0', 'population': '8308799'}, {'country': 'Philippines', 'year': '1993', 'sex': 'female', 'age': '55-74 years', 'suicides_no': '21', 'population': '2175656'}, {'country': 'Philippines', 'year': '1993', 'sex': 'female', 'age': '75+ years', 'suicides_no': '10', 'population': '395945'}, {'country': 'Philippines', 'year': '1993', 'sex': 'male', 'age': '15-24 years', 'suicides_no': '175', 'population': '6764969'}, {'country': 'Philippines', 'year': '1993', 'sex': 'male', 'age': '25-34 years', 'suicides_no': '154', 'population': '5196998'}, {'country': 'Philippines', 'year': '1993', 'sex': 'male', 'age': '35-54 years', 'suicides_no': '128', 'population': '5807147'}, {'country': 'Philippines', 'year': '1993', 'sex': 'male', 'age': '5-14 years', 'suicides_no': '0', 'population': '8673303'}, {'country': 'Philippines', 'year': '1993', 'sex': 'male', 'age': '55-74 years', 'suicides_no': '40', 'population': '1875192'}, {'country': 'Philippines', 'year': '1993', 'sex': 'male', 'age': '75+ years', 'suicides_no': '9', 'population': '268392'}, {'country': 'Philippines', 'year': '1994', 'sex': 'female', 'age': '15-24 years', 'suicides_no': '', 'population': '6657000'}, {'country': 'Philippines', 'year': '1994', 'sex': 'female', 'age': '25-34 years', 'suicides_no': '', 'population': '5396000'}, {'country': 'Philippines', 'year': '1994', 'sex': 'female', 'age': '35-54 years', 'suicides_no': '', 'population': '6450000'}, {'country': 'Philippines', 'year': '1994', 'sex': 'female', 'age': '5-14 years', 'suicides_no': '', 'population': '7927000'}, {'country': 'Philippines', 'year': '1994', 'sex': 'female', 'age': '55-74 years', 'suicides_no': '', 'population': '2548000'}, {'country': 'Philippines', 'year': '1994', 'sex': 'female', 'age': '75+ years', 'suicides_no': '', 'population': '483000'}, {'country': 'Philippines', 'year': '1994', 'sex': 'male', 'age': '15-24 years', 'suicides_no': '', 'population': '6980000'}, {'country': 'Philippines', 'year': '1994', 'sex': 'male', 'age': '25-34 years', 'suicides_no': '', 'population': '5279000'}, {'country': 'Philippines', 'year': '1994', 'sex': 'male', 'age': '35-54 years', 'suicides_no': '', 'population': '6266000'}, {'country': 'Philippines', 'year': '1994', 'sex': 'male', 'age': '5-14 years', 'suicides_no': '', 'population': '8306000'}, {'country': 'Philippines', 'year': '1994', 'sex': 'male', 'age': '55-74 years', 'suicides_no': '', 'population': '2354000'}, {'country': 'Philippines', 'year': '1994', 'sex': 'male', 'age': '75+ years', 'suicides_no': '', 'population': '398000'}, {'country': 'Philippines', 'year': '1995', 'sex': 'female', 'age': '15-24 years', 'suicides_no': '', 'population': '6888000'}, {'country': 'Philippines', 'year': '1995', 'sex': 'female', 'age': '25-34 years', 'suicides_no': '', 'population': '5278000'}, {'country': 'Philippines', 'year': '1995', 'sex': 'female', 'age': '35-54 years', 'suicides_no': '', 'population': '6174000'}, {'country': 'Philippines', 'year': '1995', 'sex': 'female', 'age': '5-14 years', 'suicides_no': '', 'population': '8284000'}, {'country': 'Philippines', 'year': '1995', 'sex': 'female', 'age': '55-74 years', 'suicides_no': '', 'population': '2411000'}, {'country': 'Philippines', 'year': '1995', 'sex': 'female', 'age': '75+ years', 'suicides_no': '', 'population': '452000'}, {'country': 'Philippines', 'year': '1995', 'sex': 'male', 'age': '15-24 years', 'suicides_no': '', 'population': '6845000'}, {'country': 'Philippines', 'year': '1995', 'sex': 'male', 'age': '25-34 years', 'suicides_no': '', 'population': '5333000'}, {'country': 'Philippines', 'year': '1995', 'sex': 'male', 'age': '35-54 years', 'suicides_no': '', 'population': '6340000'}, {'country': 'Philippines', 'year': '1995', 'sex': 'male', 'age': '5-14 years', 'suicides_no': '', 'population': '8647000'}, {'country': 'Philippines', 'year': '1995', 'sex': 'male', 'age': '55-74 years', 'suicides_no': '', 'population': '2232000'}, {'country': 'Philippines', 'year': '1995', 'sex': 'male', 'age': '75+ years', 'suicides_no': '', 'population': '349000'}, {'country': 'Philippines', 'year': '1996', 'sex': 'female', 'age': '15-24 years', 'suicides_no': '', 'population': '6906000'}, {'country': 'Philippines', 'year': '1996', 'sex': 'female', 'age': '25-34 years', 'suicides_no': '', 'population': '5384000'}, {'country': 'Philippines', 'year': '1996', 'sex': 'female', 'age': '35-54 years', 'suicides_no': '', 'population': '6494000'}, {'country': 'Philippines', 'year': '1996', 'sex': 'female', 'age': '5-14 years', 'suicides_no': '', 'population': '8296000'}, {'country': 'Philippines', 'year': '1996', 'sex': 'female', 'age': '55-74 years', 'suicides_no': '', 'population': '2586000'}, {'country': 'Philippines', 'year': '1996', 'sex': 'female', 'age': '75+ years', 'suicides_no': '', 'population': '429000'}, {'country': 'Philippines', 'year': '1996', 'sex': 'male', 'age': '15-24 years', 'suicides_no': '', 'population': '6979200'}, {'country': 'Philippines', 'year': '1996', 'sex': 'male', 'age': '25-34 years', 'suicides_no': '', 'population': '5411100'}, {'country': 'Philippines', 'year': '1996', 'sex': 'male', 'age': '35-54 years', 'suicides_no': '', 'population': '6574300'}, {'country': 'Philippines', 'year': '1996', 'sex': 'male', 'age': '5-14 years', 'suicides_no': '', 'population': '8642400'}, {'country': 'Philippines', 'year': '1996', 'sex': 'male', 'age': '55-74 years', 'suicides_no': '', 'population': '2409300'}, {'country': 'Philippines', 'year': '1996', 'sex': 'male', 'age': '75+ years', 'suicides_no': '', 'population': '337300'}, {'country': 'Philippines', 'year': '1997', 'sex': 'female', 'age': '15-24 years', 'suicides_no': '84', 'population': '7103613'}, {'country': 'Philippines', 'year': '1997', 'sex': 'female', 'age': '25-34 years', 'suicides_no': '49', 'population': '5497526'}, {'country': 'Philippines', 'year': '1997', 'sex': 'female', 'age': '35-54 years', 'suicides_no': '56', 'population': '6702440'}, {'country': 'Philippines', 'year': '1997', 'sex': 'female', 'age': '5-14 years', 'suicides_no': '6', 'population': '8991189'}, {'country': 'Philippines', 'year': '1997', 'sex': 'female', 'age': '55-74 years', 'suicides_no': '20', 'population': '2461814'}, {'country': 'Philippines', 'year': '1997', 'sex': 'female', 'age': '75+ years', 'suicides_no': '4', 'population': '450881'}, {'country': 'Philippines', 'year': '1997', 'sex': 'male', 'age': '15-24 years', 'suicides_no': '167', 'population': '7367351'}, {'country': 'Philippines', 'year': '1997', 'sex': 'male', 'age': '25-34 years', 'suicides_no': '193', 'population': '5635075'}, {'country': 'Philippines', 'year': '1997', 'sex': 'male', 'age': '35-54 years', 'suicides_no': '146', 'population': '6734331'}, {'country': 'Philippines', 'year': '1997', 'sex': 'male', 'age': '5-14 years', 'suicides_no': '10', 'population': '9402618'}, {'country': 'Philippines', 'year': '1997', 'sex': 'male', 'age': '55-74 years', 'suicides_no': '66', 'population': '2136927'}, {'country': 'Philippines', 'year': '1997', 'sex': 'male', 'age': '75+ years', 'suicides_no': '13', 'population': '288929'}, {'country': 'Philippines', 'year': '1998', 'sex': 'female', 'age': '15-24 years', 'suicides_no': '87', 'population': '7255489'}, {'country': 'Philippines', 'year': '1998', 'sex': 'female', 'age': '25-34 years', 'suicides_no': '52', 'population': '5601858'}, {'country': 'Philippines', 'year': '1998', 'sex': 'female', 'age': '35-54 years', 'suicides_no': '44', 'population': '6946610'}, {'country': 'Philippines', 'year': '1998', 'sex': 'female', 'age': '5-14 years', 'suicides_no': '10', 'population': '9141469'}, {'country': 'Philippines', 'year': '1998', 'sex': 'female', 'age': '55-74 years', 'suicides_no': '23', 'population': '2539996'}, {'country': 'Philippines', 'year': '1998', 'sex': 'female', 'age': '75+ years', 'suicides_no': '2', 'population': '466825'}, {'country': 'Philippines', 'year': '1998', 'sex': 'male', 'age': '15-24 years', 'suicides_no': '189', 'population': '7523504'}, {'country': 'Philippines', 'year': '1998', 'sex': 'male', 'age': '25-34 years', 'suicides_no': '198', 'population': '5737075'}, {'country': 'Philippines', 'year': '1998', 'sex': 'male', 'age': '35-54 years', 'suicides_no': '175', 'population': '6969508'}, {'country': 'Philippines', 'year': '1998', 'sex': 'male', 'age': '5-14 years', 'suicides_no': '16', 'population': '9564500'}, {'country': 'Philippines', 'year': '1998', 'sex': 'male', 'age': '55-74 years', 'suicides_no': '69', 'population': '2209911'}, {'country': 'Philippines', 'year': '1998', 'sex': 'male', 'age': '75+ years', 'suicides_no': '18', 'population': '295869'}, {'country': 'Philippines', 'year': '1999', 'sex': 'female', 'age': '15-24 years', 'suicides_no': '96', 'population': '7413770'}, {'country': 'Philippines', 'year': '1999', 'sex': 'female', 'age': '25-34 years', 'suicides_no': '61', 'population': '5708649'}, {'country': 'Philippines', 'year': '1999', 'sex': 'female', 'age': '35-54 years', 'suicides_no': '57', 'population': '7196381'}, {'country': 'Philippines', 'year': '1999', 'sex': 'female', 'age': '5-14 years', 'suicides_no': '7', 'population': '9281852'}, {'country': 'Philippines', 'year': '1999', 'sex': 'female', 'age': '55-74 years', 'suicides_no': '21', 'population': '2623906'}, {'country': 'Philippines', 'year': '1999', 'sex': 'female', 'age': '75+ years', 'suicides_no': '13', 'population': '479461'}, {'country': 'Philippines', 'year': '1999', 'sex': 'male', 'age': '15-24 years', 'suicides_no': '257', 'population': '7687280'}, {'country': 'Philippines', 'year': '1999', 'sex': 'male', 'age': '25-34 years', 'suicides_no': '199', 'population': '5840463'}, {'country': 'Philippines', 'year': '1999', 'sex': 'male', 'age': '35-54 years', 'suicides_no': '225', 'population': '7208041'}, {'country': 'Philippines', 'year': '1999', 'sex': 'male', 'age': '5-14 years', 'suicides_no': '14', 'population': '9713454'}, {'country': 'Philippines', 'year': '1999', 'sex': 'male', 'age': '55-74 years', 'suicides_no': '79', 'population': '2287574'}, {'country': 'Philippines', 'year': '1999', 'sex': 'male', 'age': '75+ years', 'suicides_no': '14', 'population': '299370'}, {'country': 'Philippines', 'year': '2000', 'sex': 'female', 'age': '15-24 years', 'suicides_no': '120', 'population': '7579338'}, {'country': 'Philippines', 'year': '2000', 'sex': 'female', 'age': '25-34 years', 'suicides_no': '89', 'population': '5820018'}, {'country': 'Philippines', 'year': '2000', 'sex': 'female', 'age': '35-54 years', 'suicides_no': '98', 'population': '7451816'}, {'country': 'Philippines', 'year': '2000', 'sex': 'female', 'age': '5-14 years', 'suicides_no': '14', 'population': '9414417'}, {'country': 'Philippines', 'year': '2000', 'sex': 'female', 'age': '55-74 years', 'suicides_no': '27', 'population': '2713829'}, {'country': 'Philippines', 'year': '2000', 'sex': 'female', 'age': '75+ years', 'suicides_no': '10', 'population': '488377'}, {'country': 'Philippines', 'year': '2000', 'sex': 'male', 'age': '15-24 years', 'suicides_no': '316', 'population': '7859202'}, {'country': 'Philippines', 'year': '2000', 'sex': 'male', 'age': '25-34 years', 'suicides_no': '276', 'population': '5947283'}, {'country': 'Philippines', 'year': '2000', 'sex': 'male', 'age': '35-54 years', 'suicides_no': '294', 'population': '7449254'}, {'country': 'Philippines', 'year': '2000', 'sex': 'male', 'age': '5-14 years', 'suicides_no': '18', 'population': '9850796'}, {'country': 'Philippines', 'year': '2000', 'sex': 'male', 'age': '55-74 years', 'suicides_no': '121', 'population': '2370016'}, {'country': 'Philippines', 'year': '2000', 'sex': 'male', 'age': '75+ years', 'suicides_no': '20', 'population': '299136'}, {'country': 'Philippines', 'year': '2001', 'sex': 'female', 'age': '15-24 years', 'suicides_no': '104', 'population': '7738503'}, {'country': 'Philippines', 'year': '2001', 'sex': 'female', 'age': '25-34 years', 'suicides_no': '48', 'population': '5937956'}, {'country': 'Philippines', 'year': '2001', 'sex': 'female', 'age': '35-54 years', 'suicides_no': '79', 'population': '7711226'}, {'country': 'Philippines', 'year': '2001', 'sex': 'female', 'age': '5-14 years', 'suicides_no': '8', 'population': '9545250'}, {'country': 'Philippines', 'year': '2001', 'sex': 'female', 'age': '55-74 years', 'suicides_no': '34', 'population': '2797077'}, {'country': 'Philippines', 'year': '2001', 'sex': 'female', 'age': '75+ years', 'suicides_no': '4', 'population': '505269'}, {'country': 'Philippines', 'year': '2001', 'sex': 'male', 'age': '15-24 years', 'suicides_no': '310', 'population': '8018698'}, {'country': 'Philippines', 'year': '2001', 'sex': 'male', 'age': '25-34 years', 'suicides_no': '246', 'population': '6058399'}, {'country': 'Philippines', 'year': '2001', 'sex': 'male', 'age': '35-54 years', 'suicides_no': '235', 'population': '7684196'}, {'country': 'Philippines', 'year': '2001', 'sex': 'male', 'age': '5-14 years', 'suicides_no': '12', 'population': '9985839'}, {'country': 'Philippines', 'year': '2001', 'sex': 'male', 'age': '55-74 years', 'suicides_no': '104', 'population': '2445998'}, {'country': 'Philippines', 'year': '2001', 'sex': 'male', 'age': '75+ years', 'suicides_no': '20', 'population': '309681'}, {'country': 'Philippines', 'year': '2002', 'sex': 'female', 'age': '15-24 years', 'suicides_no': '114', 'population': '7903007'}, {'country': 'Philippines', 'year': '2002', 'sex': 'female', 'age': '25-34 years', 'suicides_no': '61', 'population': '6059494'}, {'country': 'Philippines', 'year': '2002', 'sex': 'female', 'age': '35-54 years', 'suicides_no': '74', 'population': '7977125'}, {'country': 'Philippines', 'year': '2002', 'sex': 'female', 'age': '5-14 years', 'suicides_no': '15', 'population': '9675419'}, {'country': 'Philippines', 'year': '2002', 'sex': 'female', 'age': '55-74 years', 'suicides_no': '27', 'population': '2885746'}, {'country': 'Philippines', 'year': '2002', 'sex': 'female', 'age': '75+ years', 'suicides_no': '11', 'population': '518398'}, {'country': 'Philippines', 'year': '2002', 'sex': 'male', 'age': '15-24 years', 'suicides_no': '346', 'population': '8184036'}, {'country': 'Philippines', 'year': '2002', 'sex': 'male', 'age': '25-34 years', 'suicides_no': '267', 'population': '6171400'}, {'country': 'Philippines', 'year': '2002', 'sex': 'male', 'age': '35-54 years', 'suicides_no': '251', 'population': '7922273'}, {'country': 'Philippines', 'year': '2002', 'sex': 'male', 'age': '5-14 years', 'suicides_no': '22', 'population': '10117670'}, {'country': 'Philippines', 'year': '2002', 'sex': 'male', 'age': '55-74 years', 'suicides_no': '93', 'population': '2525030'}, {'country': 'Philippines', 'year': '2002', 'sex': 'male', 'age': '75+ years', 'suicides_no': '20', 'population': '316845'}, {'country': 'Philippines', 'year': '2003', 'sex': 'female', 'age': '15-24 years', 'suicides_no': '166', 'population': '8067958'}, {'country': 'Philippines', 'year': '2003', 'sex': 'female', 'age': '25-34 years', 'suicides_no': '90', 'population': '6181789'}, {'country': 'Philippines', 'year': '2003', 'sex': 'female', 'age': '35-54 years', 'suicides_no': '93', 'population': '8239334'}, {'country': 'Philippines', 'year': '2003', 'sex': 'female', 'age': '5-14 years', 'suicides_no': '14', 'population': '9802426'}, {'country': 'Philippines', 'year': '2003', 'sex': 'female', 'age': '55-74 years', 'suicides_no': '26', 'population': '2983062'}, {'country': 'Philippines', 'year': '2003', 'sex': 'female', 'age': '75+ years', 'suicides_no': '13', 'population': '529230'}, {'country': 'Philippines', 'year': '2003', 'sex': 'male', 'age': '15-24 years', 'suicides_no': '328', 'population': '8353621'}, {'country': 'Philippines', 'year': '2003', 'sex': 'male', 'age': '25-34 years', 'suicides_no': '328', 'population': '6286119'}, {'country': 'Philippines', 'year': '2003', 'sex': 'male', 'age': '35-54 years', 'suicides_no': '333', 'population': '8157759'}, {'country': 'Philippines', 'year': '2003', 'sex': 'male', 'age': '5-14 years', 'suicides_no': '21', 'population': '10247489'}, {'country': 'Philippines', 'year': '2003', 'sex': 'male', 'age': '55-74 years', 'suicides_no': '107', 'population': '2610718'}, {'country': 'Philippines', 'year': '2003', 'sex': 'male', 'age': '75+ years', 'suicides_no': '25', 'population': '321984'}, {'country': 'Philippines', 'year': '2006', 'sex': 'female', 'age': '15-24 years', 'suicides_no': '146', 'population': '8479381'}, {'country': 'Philippines', 'year': '2006', 'sex': 'female', 'age': '25-34 years', 'suicides_no': '91', 'population': '6566402'}, {'country': 'Philippines', 'year': '2006', 'sex': 'female', 'age': '35-54 years', 'suicides_no': '88', 'population': '8949537'}, {'country': 'Philippines', 'year': '2006', 'sex': 'female', 'age': '5-14 years', 'suicides_no': '28', 'population': '10121349'}, {'country': 'Philippines', 'year': '2006', 'sex': 'female', 'age': '55-74 years', 'suicides_no': '39', 'population': '3408683'}, {'country': 'Philippines', 'year': '2006', 'sex': 'female', 'age': '75+ years', 'suicides_no': '10', 'population': '581896'}, {'country': 'Philippines', 'year': '2006', 'sex': 'male', 'age': '15-24 years', 'suicides_no': '400', 'population': '8792762'}, {'country': 'Philippines', 'year': '2006', 'sex': 'male', 'age': '25-34 years', 'suicides_no': '369', 'population': '6698883'}, {'country': 'Philippines', 'year': '2006', 'sex': 'male', 'age': '35-54 years', 'suicides_no': '387', 'population': '8891788'}, {'country': 'Philippines', 'year': '2006', 'sex': 'male', 'age': '5-14 years', 'suicides_no': '35', 'population': '10602914'}, {'country': 'Philippines', 'year': '2006', 'sex': 'male', 'age': '55-74 years', 'suicides_no': '162', 'population': '2986225'}, {'country': 'Philippines', 'year': '2006', 'sex': 'male', 'age': '75+ years', 'suicides_no': '33', 'population': '355935'}, {'country': 'Philippines', 'year': '2007', 'sex': 'female', 'age': '15-24 years', 'suicides_no': '158', 'population': '8579154'}, {'country': 'Philippines', 'year': '2007', 'sex': 'female', 'age': '25-34 years', 'suicides_no': '89', 'population': '6698777'}, {'country': 'Philippines', 'year': '2007', 'sex': 'female', 'age': '35-54 years', 'suicides_no': '98', 'population': '9184426'}, {'country': 'Philippines', 'year': '2007', 'sex': 'female', 'age': '5-14 years', 'suicides_no': '13', 'population': '10163198'}, {'country': 'Philippines', 'year': '2007', 'sex': 'female', 'age': '55-74 years', 'suicides_no': '43', 'population': '3600369'}, {'country': 'Philippines', 'year': '2007', 'sex': 'female', 'age': '75+ years', 'suicides_no': '5', 'population': '616190'}, {'country': 'Philippines', 'year': '2007', 'sex': 'male', 'age': '15-24 years', 'suicides_no': '430', 'population': '8891042'}, {'country': 'Philippines', 'year': '2007', 'sex': 'male', 'age': '25-34 years', 'suicides_no': '304', 'population': '6859752'}, {'country': 'Philippines', 'year': '2007', 'sex': 'male', 'age': '35-54 years', 'suicides_no': '387', 'population': '9192285'}, {'country': 'Philippines', 'year': '2007', 'sex': 'male', 'age': '5-14 years', 'suicides_no': '21', 'population': '10679730'}, {'country': 'Philippines', 'year': '2007', 'sex': 'male', 'age': '55-74 years', 'suicides_no': '131', 'population': '3162355'}, {'country': 'Philippines', 'year': '2007', 'sex': 'male', 'age': '75+ years', 'suicides_no': '19', 'population': '381376'}, {'country': 'Philippines', 'year': '2008', 'sex': 'female', 'age': '15-24 years', 'suicides_no': '171', 'population': '8697827'}, {'country': 'Philippines', 'year': '2008', 'sex': 'female', 'age': '25-34 years', 'suicides_no': '81', 'population': '6825356'}, {'country': 'Philippines', 'year': '2008', 'sex': 'female', 'age': '35-54 years', 'suicides_no': '92', 'population': '9432654'}, {'country': 'Philippines', 'year': '2008', 'sex': 'female', 'age': '5-14 years', 'suicides_no': '22', 'population': '10167105'}, {'country': 'Philippines', 'year': '2008', 'sex': 'female', 'age': '55-74 years', 'suicides_no': '31', 'population': '3795762'}, {'country': 'Philippines', 'year': '2008', 'sex': 'female', 'age': '75+ years', 'suicides_no': '12', 'population': '654125'}, {'country': 'Philippines', 'year': '2008', 'sex': 'male', 'age': '15-24 years', 'suicides_no': '441', 'population': '9009351'}, {'country': 'Philippines', 'year': '2008', 'sex': 'male', 'age': '25-34 years', 'suicides_no': '370', 'population': '7009909'}, {'country': 'Philippines', 'year': '2008', 'sex': 'male', 'age': '35-54 years', 'suicides_no': '403', 'population': '9511269'}, {'country': 'Philippines', 'year': '2008', 'sex': 'male', 'age': '5-14 years', 'suicides_no': '24', 'population': '10735591'}, {'country': 'Philippines', 'year': '2008', 'sex': 'male', 'age': '55-74 years', 'suicides_no': '144', 'population': '3349085'}, {'country': 'Philippines', 'year': '2008', 'sex': 'male', 'age': '75+ years', 'suicides_no': '29', 'population': '407854'}, {'country': 'Philippines', 'year': '2009', 'sex': 'female', 'age': '15-24 years', 'suicides_no': '232', 'population': '8838722'}, {'country': 'Philippines', 'year': '2009', 'sex': 'female', 'age': '25-34 years', 'suicides_no': '101', 'population': '6948096'}, {'country': 'Philippines', 'year': '2009', 'sex': 'female', 'age': '35-54 years', 'suicides_no': '114', 'population': '9705410'}, {'country': 'Philippines', 'year': '2009', 'sex': 'female', 'age': '5-14 years', 'suicides_no': '16', 'population': '10135355'}, {'country': 'Philippines', 'year': '2009', 'sex': 'female', 'age': '55-74 years', 'suicides_no': '56', 'population': '3992044'}, {'country': 'Philippines', 'year': '2009', 'sex': 'female', 'age': '75+ years', 'suicides_no': '6', 'population': '696919'}, {'country': 'Philippines', 'year': '2009', 'sex': 'male', 'age': '15-24 years', 'suicides_no': '475', 'population': '9146246'}, {'country': 'Philippines', 'year': '2009', 'sex': 'male', 'age': '25-34 years', 'suicides_no': '383', 'population': '7144648'}, {'country': 'Philippines', 'year': '2009', 'sex': 'male', 'age': '35-54 years', 'suicides_no': '468', 'population': '9849908'}, {'country': 'Philippines', 'year': '2009', 'sex': 'male', 'age': '5-14 years', 'suicides_no': '22', 'population': '10758565'}, {'country': 'Philippines', 'year': '2009', 'sex': 'male', 'age': '55-74 years', 'suicides_no': '171', 'population': '3542917'}, {'country': 'Philippines', 'year': '2009', 'sex': 'male', 'age': '75+ years', 'suicides_no': '30', 'population': '435025'}, {'country': 'Philippines', 'year': '2010', 'sex': 'female', 'age': '15-24 years', 'suicides_no': '218', 'population': '8994318'}, {'country': 'Philippines', 'year': '2010', 'sex': 'female', 'age': '25-34 years', 'suicides_no': '101', 'population': '7063242'}, {'country': 'Philippines', 'year': '2010', 'sex': 'female', 'age': '35-54 years', 'suicides_no': '107', 'population': '10000163'}, {'country': 'Philippines', 'year': '2010', 'sex': 'female', 'age': '5-14 years', 'suicides_no': '17', 'population': '10070404'}, {'country': 'Philippines', 'year': '2010', 'sex': 'female', 'age': '55-74 years', 'suicides_no': '34', 'population': '4190559'}, {'country': 'Philippines', 'year': '2010', 'sex': 'female', 'age': '75+ years', 'suicides_no': '10', 'population': '745830'}, {'country': 'Philippines', 'year': '2010', 'sex': 'male', 'age': '15-24 years', 'suicides_no': '503', 'population': '9293357'}, {'country': 'Philippines', 'year': '2010', 'sex': 'male', 'age': '25-34 years', 'suicides_no': '400', 'population': '7256791'}, {'country': 'Philippines', 'year': '2010', 'sex': 'male', 'age': '35-54 years', 'suicides_no': '469', 'population': '10200672'}, {'country': 'Philippines', 'year': '2010', 'sex': 'male', 'age': '5-14 years', 'suicides_no': '35', 'population': '10738646'}, {'country': 'Philippines', 'year': '2010', 'sex': 'male', 'age': '55-74 years', 'suicides_no': '180', 'population': '3743523'}, {'country': 'Philippines', 'year': '2010', 'sex': 'male', 'age': '75+ years', 'suicides_no': '42', 'population': '463487'}, {'country': 'Philippines', 'year': '2011', 'sex': 'female', 'age': '15-24 years', 'suicides_no': '221', 'population': '9155053'}, {'country': 'Philippines', 'year': '2011', 'sex': 'female', 'age': '25-34 years', 'suicides_no': '120', 'population': '7181904'}, {'country': 'Philippines', 'year': '2011', 'sex': 'female', 'age': '35-54 years', 'suicides_no': '147', 'population': '10216808'}, {'country': 'Philippines', 'year': '2011', 'sex': 'female', 'age': '5-14 years', 'suicides_no': '29', 'population': '10091572'}, {'country': 'Philippines', 'year': '2011', 'sex': 'female', 'age': '55-74 years', 'suicides_no': '39', 'population': '4336188'}, {'country': 'Philippines', 'year': '2011', 'sex': 'female', 'age': '75+ years', 'suicides_no': '14', 'population': '782366'}, {'country': 'Philippines', 'year': '2011', 'sex': 'male', 'age': '15-24 years', 'suicides_no': '541', 'population': '9485777'}, {'country': 'Philippines', 'year': '2011', 'sex': 'male', 'age': '25-34 years', 'suicides_no': '470', 'population': '7373201'}, {'country': 'Philippines', 'year': '2011', 'sex': 'male', 'age': '35-54 years', 'suicides_no': '533', 'population': '10412504'}, {'country': 'Philippines', 'year': '2011', 'sex': 'male', 'age': '5-14 years', 'suicides_no': '44', 'population': '10788943'}, {'country': 'Philippines', 'year': '2011', 'sex': 'male', 'age': '55-74 years', 'suicides_no': '227', 'population': '3884001'}, {'country': 'Philippines', 'year': '2011', 'sex': 'male', 'age': '75+ years', 'suicides_no': '64', 'population': '493450'}, {'country': 'Philippines', 'year': '2013', 'sex': 'female', 'age': '15-24 years', 'suicides_no': '', 'population': '9437663'}, {'country': 'Philippines', 'year': '2013', 'sex': 'female', 'age': '25-34 years', 'suicides_no': '', 'population': '7450252'}, {'country': 'Philippines', 'year': '2013', 'sex': 'female', 'age': '35-54 years', 'suicides_no': '', 'population': '10844107'}, {'country': 'Philippines', 'year': '2013', 'sex': 'female', 'age': '5-14 years', 'suicides_no': '', 'population': '10215594'}, {'country': 'Philippines', 'year': '2013', 'sex': 'female', 'age': '55-74 years', 'suicides_no': '', 'population': '4637949'}, {'country': 'Philippines', 'year': '2013', 'sex': 'female', 'age': '75+ years', 'suicides_no': '', 'population': '938352'}, {'country': 'Philippines', 'year': '2013', 'sex': 'male', 'age': '15-24 years', 'suicides_no': '', 'population': '9715854'}, {'country': 'Philippines', 'year': '2013', 'sex': 'male', 'age': '25-34 years', 'suicides_no': '', 'population': '7644966'}, {'country': 'Philippines', 'year': '2013', 'sex': 'male', 'age': '35-54 years', 'suicides_no': '', 'population': '11120463'}, {'country': 'Philippines', 'year': '2013', 'sex': 'male', 'age': '5-14 years', 'suicides_no': '', 'population': '10870745'}, {'country': 'Philippines', 'year': '2013', 'sex': 'male', 'age': '55-74 years', 'suicides_no': '', 'population': '4160754'}, {'country': 'Philippines', 'year': '2013', 'sex': 'male', 'age': '75+ years', 'suicides_no': '', 'population': '578365'}, {'country': 'Philippines', 'year': '2014', 'sex': 'female', 'age': '15-24 years', 'suicides_no': '', 'population': '9603065'}, {'country': 'Philippines', 'year': '2014', 'sex': 'female', 'age': '25-34 years', 'suicides_no': '', 'population': '7594161'}, {'country': 'Philippines', 'year': '2014', 'sex': 'female', 'age': '35-54 years', 'suicides_no': '', 'population': '11157673'}, {'country': 'Philippines', 'year': '2014', 'sex': 'female', 'age': '5-14 years', 'suicides_no': '', 'population': '10304643'}, {'country': 'Philippines', 'year': '2014', 'sex': 'female', 'age': '55-74 years', 'suicides_no': '', 'population': '4805341'}, {'country': 'Philippines', 'year': '2014', 'sex': 'female', 'age': '75+ years', 'suicides_no': '', 'population': '968035'}, {'country': 'Philippines', 'year': '2014', 'sex': 'male', 'age': '15-24 years', 'suicides_no': '', 'population': '9886164'}, {'country': 'Philippines', 'year': '2014', 'sex': 'male', 'age': '25-34 years', 'suicides_no': '', 'population': '7792631'}, {'country': 'Philippines', 'year': '2014', 'sex': 'male', 'age': '35-54 years', 'suicides_no': '', 'population': '11441280'}, {'country': 'Philippines', 'year': '2014', 'sex': 'male', 'age': '5-14 years', 'suicides_no': '', 'population': '10965349'}, {'country': 'Philippines', 'year': '2014', 'sex': 'male', 'age': '55-74 years', 'suicides_no': '', 'population': '4312638'}, {'country': 'Philippines', 'year': '2014', 'sex': 'male', 'age': '75+ years', 'suicides_no': '', 'population': '596796'}]\n"
     ]
    }
   ],
   "source": [
    "# Using collect() method\n",
    "print(philippines_rdd.collect())"
   ]
  },
  {
   "cell_type": "code",
   "execution_count": 8,
   "id": "457aaabc-f3ec-41b8-bc22-25a6c6c69d0a",
   "metadata": {},
   "outputs": [
    {
     "name": "stdout",
     "output_type": "stream",
     "text": [
      "[{'country': 'Philippines', 'year': '1980', 'sex': 'female', 'age': '15-24 years', 'suicides_no': '', 'population': '5015000'}, {'country': 'Philippines', 'year': '1980', 'sex': 'female', 'age': '25-34 years', 'suicides_no': '', 'population': '3417900'}, {'country': 'Philippines', 'year': '1980', 'sex': 'female', 'age': '35-54 years', 'suicides_no': '', 'population': '3865100'}, {'country': 'Philippines', 'year': '1980', 'sex': 'female', 'age': '5-14 years', 'suicides_no': '', 'population': '6017800'}, {'country': 'Philippines', 'year': '1980', 'sex': 'female', 'age': '55-74 years', 'suicides_no': '', 'population': '1732900'}, {'country': 'Philippines', 'year': '1980', 'sex': 'female', 'age': '75+ years', 'suicides_no': '', 'population': '264600'}, {'country': 'Philippines', 'year': '1980', 'sex': 'male', 'age': '15-24 years', 'suicides_no': '', 'population': '4907900'}, {'country': 'Philippines', 'year': '1980', 'sex': 'male', 'age': '25-34 years', 'suicides_no': '', 'population': '3186300'}, {'country': 'Philippines', 'year': '1980', 'sex': 'male', 'age': '35-54 years', 'suicides_no': '', 'population': '3424500'}, {'country': 'Philippines', 'year': '1980', 'sex': 'male', 'age': '5-14 years', 'suicides_no': '', 'population': '6816700'}]\n"
     ]
    }
   ],
   "source": [
    "# Using take() method\n",
    "print(philippines_rdd.take(10))"
   ]
  },
  {
   "cell_type": "code",
   "execution_count": 9,
   "id": "5e306159-681e-42f7-a1b7-1947a1c1cc21",
   "metadata": {},
   "outputs": [
    {
     "name": "stdout",
     "output_type": "stream",
     "text": [
      "empty suicide number columns count: 96\n"
     ]
    }
   ],
   "source": [
    "# Empty suicides number columns\n",
    "empty_suicides_no_rdd = philippines_rdd.filter(lambda row: row['suicides_no'] == '')\n",
    "print(f\"empty suicide number columns count: {empty_suicides_no_rdd.count()}\")"
   ]
  },
  {
   "cell_type": "code",
   "execution_count": 10,
   "id": "062a931f-d8f4-455a-a096-d9d99394d7e2",
   "metadata": {},
   "outputs": [
    {
     "name": "stdout",
     "output_type": "stream",
     "text": [
      "empty suicide number columns count: 0\n"
     ]
    }
   ],
   "source": [
    "# Quantify empty suicides number columns\n",
    "def replace_empty_with_zero(row):\n",
    "  if row['suicides_no'] is None:\n",
    "    return {'suicides_no': 0}\n",
    "  else:\n",
    "    return row\n",
    "\n",
    "philippines_rdd = philippines_rdd.filter(lambda row: row['suicides_no'] != '') \\\n",
    "  .map(replace_empty_with_zero)\n",
    "\n",
    "empty_suicides_no_rdd = philippines_rdd.filter(lambda row: row['suicides_no'] == '')\n",
    "print(f\"empty suicide number columns count: {empty_suicides_no_rdd.count()}\")"
   ]
  },
  {
   "cell_type": "code",
   "execution_count": 11,
   "id": "4d88f753-f06a-4453-82ed-5608059d808d",
   "metadata": {},
   "outputs": [
    {
     "name": "stdout",
     "output_type": "stream",
     "text": [
      "Age Group: 15-24 years, Average Suicide Rate: 2.84%\n",
      "Age Group: 5-14 years, Average Suicide Rate: 0.16%\n",
      "Age Group: 55-74 years, Average Suicide Rate: 2.46%\n",
      "Age Group: 75+ years, Average Suicide Rate: 4.04%\n",
      "Age Group: 25-34 years, Average Suicide Rate: 2.78%\n",
      "Age Group: 35-54 years, Average Suicide Rate: 2.24%\n"
     ]
    }
   ],
   "source": [
    "# Group By\n",
    "\n",
    "grouped_by_age_rdd = philippines_rdd.groupBy(lambda row: row['age'])\n",
    "grouped_by_age_rdd = grouped_by_age_rdd.map(lambda x: (x[0], list(x[1])))\n",
    "flattened_rdd = grouped_by_age_rdd.flatMap(lambda x: [(x[0], entry) for entry in x[1]])\n",
    "\n",
    "# Compute suicide rates\n",
    "suicide_rates_rdd = flattened_rdd.map(lambda x: (\n",
    "    x[0],  # age group\n",
    "    float(x[1]['suicides_no']) / float(x[1]['population']) * 100000  # suicide rate per 100,000\n",
    "))\n",
    "\n",
    "# Aggregate by age group, calculate average suicide rate per age group \n",
    "# using formula: Suicide rate = Total Number of suicides per Age Group / Total Population per Age Group) × 100,000\n",
    "\n",
    "aggregated_rdd = suicide_rates_rdd.combineByKey(\n",
    "    lambda value: (value, 1),\n",
    "    lambda acc, value: (acc[0] + value, acc[1] + 1),\n",
    "    lambda acc1, acc2: (acc1[0] + acc2[0], acc1[1] + acc2[1])\n",
    ").map(lambda x: (x[0], x[1][0] / x[1][1]))\n",
    "\n",
    "# Collect and print results\n",
    "results = aggregated_rdd.collect()\n",
    "for result in results:\n",
    "    print(f\"Age Group: {result[0]}, Average Suicide Rate: {result[1]:.2f}%\")"
   ]
  },
  {
   "cell_type": "code",
   "execution_count": 12,
   "id": "a50a9656-988c-479f-9082-398039963d59",
   "metadata": {},
   "outputs": [
    {
     "name": "stdout",
     "output_type": "stream",
     "text": [
      "Age Group: 75+ years, Average Suicide Rate: 4.04%\n",
      "Age Group: 15-24 years, Average Suicide Rate: 2.84%\n",
      "Age Group: 25-34 years, Average Suicide Rate: 2.78%\n",
      "Age Group: 55-74 years, Average Suicide Rate: 2.46%\n",
      "Age Group: 35-54 years, Average Suicide Rate: 2.24%\n",
      "Age Group: 5-14 years, Average Suicide Rate: 0.16%\n"
     ]
    }
   ],
   "source": [
    "# Sort by suicide rate in descending order\n",
    "sorted_rdd = aggregated_rdd.sortBy(lambda x: x[1], ascending=False)\n",
    "\n",
    "# Collect and print results\n",
    "results = sorted_rdd.collect()\n",
    "for result in results:\n",
    "    print(f\"Age Group: {result[0]}, Average Suicide Rate: {result[1]:.2f}%\")"
   ]
  },
  {
   "cell_type": "code",
   "execution_count": 13,
   "id": "ae9e0883-2fa9-4f15-abbb-ab555108c8c2",
   "metadata": {},
   "outputs": [
    {
     "name": "stdout",
     "output_type": "stream",
     "text": [
      "root\n",
      " |-- country: string (nullable = true)\n",
      " |-- year: integer (nullable = true)\n",
      " |-- sex: string (nullable = true)\n",
      " |-- age: string (nullable = true)\n",
      " |-- suicides_no: integer (nullable = true)\n",
      " |-- population: integer (nullable = true)\n",
      "\n",
      "Before dropping nulls:\n",
      "+-------+----+------+-----------+-----------+----------+\n",
      "|country|year|   sex|        age|suicides_no|population|\n",
      "+-------+----+------+-----------+-----------+----------+\n",
      "|Albania|1985|female|15-24 years|       NULL|    277900|\n",
      "|Albania|1985|female|25-34 years|       NULL|    246800|\n",
      "|Albania|1985|female|35-54 years|       NULL|    267500|\n",
      "|Albania|1985|female| 5-14 years|       NULL|    298300|\n",
      "|Albania|1985|female|55-74 years|       NULL|    138700|\n",
      "|Albania|1985|female|  75+ years|       NULL|     34200|\n",
      "|Albania|1985|  male|15-24 years|       NULL|    301400|\n",
      "|Albania|1985|  male|25-34 years|       NULL|    264200|\n",
      "|Albania|1985|  male|35-54 years|       NULL|    296700|\n",
      "|Albania|1985|  male| 5-14 years|       NULL|    325800|\n",
      "|Albania|1985|  male|55-74 years|       NULL|    132500|\n",
      "|Albania|1985|  male|  75+ years|       NULL|     21100|\n",
      "|Albania|1986|female|15-24 years|       NULL|    283900|\n",
      "|Albania|1986|female|25-34 years|       NULL|    252100|\n",
      "|Albania|1986|female|35-54 years|       NULL|    273200|\n",
      "|Albania|1986|female| 5-14 years|       NULL|    304700|\n",
      "|Albania|1986|female|55-74 years|       NULL|    141700|\n",
      "|Albania|1986|female|  75+ years|       NULL|     34900|\n",
      "|Albania|1986|  male|15-24 years|       NULL|    306700|\n",
      "|Albania|1986|  male|25-34 years|       NULL|    269000|\n",
      "+-------+----+------+-----------+-----------+----------+\n",
      "only showing top 20 rows\n",
      "\n"
     ]
    }
   ],
   "source": [
    "# Dataframe Data Manipulation\n",
    "\n",
    "df = spark.read.csv(\"who_suicide_statistics.csv\", header=True, inferSchema=True)\n",
    "\n",
    "# Show the schema of the DataFrame\n",
    "df.printSchema()\n",
    "\n",
    "# Show the first few rows of the DataFrame\n",
    "print(\"Before dropping nulls:\")\n",
    "df.show()"
   ]
  },
  {
   "cell_type": "code",
   "execution_count": 14,
   "id": "5c8ab4cc-1462-415c-a833-1364131aa8d9",
   "metadata": {},
   "outputs": [
    {
     "name": "stdout",
     "output_type": "stream",
     "text": [
      "After dropping nulls:\n",
      "+-------+----+------+-----------+-----------+----------+\n",
      "|country|year|   sex|        age|suicides_no|population|\n",
      "+-------+----+------+-----------+-----------+----------+\n",
      "|Albania|1987|female|15-24 years|         14|    289700|\n",
      "|Albania|1987|female|25-34 years|          4|    257200|\n",
      "|Albania|1987|female|35-54 years|          6|    278800|\n",
      "|Albania|1987|female| 5-14 years|          0|    311000|\n",
      "|Albania|1987|female|55-74 years|          0|    144600|\n",
      "|Albania|1987|female|  75+ years|          1|     35600|\n",
      "|Albania|1987|  male|15-24 years|         21|    312900|\n",
      "|Albania|1987|  male|25-34 years|          9|    274300|\n",
      "|Albania|1987|  male|35-54 years|         16|    308000|\n",
      "|Albania|1987|  male| 5-14 years|          0|    338200|\n",
      "|Albania|1987|  male|55-74 years|          1|    137500|\n",
      "|Albania|1987|  male|  75+ years|          1|     21800|\n",
      "|Albania|1988|female|15-24 years|          8|    295600|\n",
      "|Albania|1988|female|25-34 years|          5|    262400|\n",
      "|Albania|1988|female|35-54 years|          4|    284500|\n",
      "|Albania|1988|female| 5-14 years|          0|    317200|\n",
      "|Albania|1988|female|55-74 years|          3|    147500|\n",
      "|Albania|1988|female|  75+ years|          2|     36400|\n",
      "|Albania|1988|  male|15-24 years|         17|    319200|\n",
      "|Albania|1988|  male|25-34 years|          5|    279900|\n",
      "+-------+----+------+-----------+-----------+----------+\n",
      "only showing top 20 rows\n",
      "\n"
     ]
    }
   ],
   "source": [
    "# Drop rows where any of the specified columns have null values\n",
    "columns_to_check = df.columns\n",
    "cleaned_df = df.dropna(subset=columns_to_check)\n",
    "\n",
    "# Show the first few rows of the DataFrame after dropping nulls\n",
    "print(\"After dropping nulls:\")\n",
    "cleaned_df.show()"
   ]
  },
  {
   "cell_type": "code",
   "execution_count": 15,
   "id": "2eb04104-3bb4-4133-b480-cf2fe21c8b7d",
   "metadata": {},
   "outputs": [
    {
     "name": "stdout",
     "output_type": "stream",
     "text": [
      "Before filtering:\n",
      "+-------+----+------+-----------+-----------+----------+\n",
      "|country|year|   sex|        age|suicides_no|population|\n",
      "+-------+----+------+-----------+-----------+----------+\n",
      "|Albania|1987|female|15-24 years|         14|    289700|\n",
      "|Albania|1987|female|25-34 years|          4|    257200|\n",
      "|Albania|1987|female|35-54 years|          6|    278800|\n",
      "|Albania|1987|female| 5-14 years|          0|    311000|\n",
      "|Albania|1987|female|55-74 years|          0|    144600|\n",
      "|Albania|1987|female|  75+ years|          1|     35600|\n",
      "|Albania|1987|  male|15-24 years|         21|    312900|\n",
      "|Albania|1987|  male|25-34 years|          9|    274300|\n",
      "|Albania|1987|  male|35-54 years|         16|    308000|\n",
      "|Albania|1987|  male| 5-14 years|          0|    338200|\n",
      "|Albania|1987|  male|55-74 years|          1|    137500|\n",
      "|Albania|1987|  male|  75+ years|          1|     21800|\n",
      "|Albania|1988|female|15-24 years|          8|    295600|\n",
      "|Albania|1988|female|25-34 years|          5|    262400|\n",
      "|Albania|1988|female|35-54 years|          4|    284500|\n",
      "|Albania|1988|female| 5-14 years|          0|    317200|\n",
      "|Albania|1988|female|55-74 years|          3|    147500|\n",
      "|Albania|1988|female|  75+ years|          2|     36400|\n",
      "|Albania|1988|  male|15-24 years|         17|    319200|\n",
      "|Albania|1988|  male|25-34 years|          5|    279900|\n",
      "+-------+----+------+-----------+-----------+----------+\n",
      "only showing top 20 rows\n",
      "\n"
     ]
    }
   ],
   "source": [
    "# Show the first few rows of the DataFrame before filtering\n",
    "print(\"Before filtering:\")\n",
    "cleaned_df.show()"
   ]
  },
  {
   "cell_type": "code",
   "execution_count": 16,
   "id": "4e7902c7-5f4e-43e3-9b67-3378255cf3a7",
   "metadata": {},
   "outputs": [
    {
     "name": "stdout",
     "output_type": "stream",
     "text": [
      "After filtering for Philippines:\n",
      "+-----------+----+------+-----------+-----------+----------+\n",
      "|    country|year|   sex|        age|suicides_no|population|\n",
      "+-----------+----+------+-----------+-----------+----------+\n",
      "|Philippines|1993|female|  75+ years|         10|    395945|\n",
      "|Philippines|2006|female| 5-14 years|         28|  10121349|\n",
      "|Philippines|2002|female|15-24 years|        114|   7903007|\n",
      "|Philippines|1992|female|  75+ years|          2|    385751|\n",
      "|Philippines|2008|  male|55-74 years|        144|   3349085|\n",
      "|Philippines|1993|female|35-54 years|         54|   5754827|\n",
      "|Philippines|1993|  male| 5-14 years|          0|   8673303|\n",
      "|Philippines|1999|  male|25-34 years|        199|   5840463|\n",
      "|Philippines|2009|  male|25-34 years|        383|   7144648|\n",
      "|Philippines|2002|  male|25-34 years|        267|   6171400|\n",
      "|Philippines|2000|  male|35-54 years|        294|   7449254|\n",
      "|Philippines|2002|  male|55-74 years|         93|   2525030|\n",
      "|Philippines|2010|  male|25-34 years|        400|   7256791|\n",
      "|Philippines|2002|female|55-74 years|         27|   2885746|\n",
      "|Philippines|2002|  male| 5-14 years|         22|  10117670|\n",
      "|Philippines|2003|  male| 5-14 years|         21|  10247489|\n",
      "|Philippines|2006|female|25-34 years|         91|   6566402|\n",
      "|Philippines|1999|female|35-54 years|         57|   7196381|\n",
      "|Philippines|2011|  male| 5-14 years|         44|  10788943|\n",
      "|Philippines|1998|female|55-74 years|         23|   2539996|\n",
      "+-----------+----+------+-----------+-----------+----------+\n",
      "only showing top 20 rows\n",
      "\n"
     ]
    }
   ],
   "source": [
    "# Filter\n",
    "# Filter the DataFrame to only include rows where the country is \"Philippines\"\n",
    "filtered_df = cleaned_df.dropDuplicates().filter(df['country'] == 'Philippines')\n",
    "\n",
    "# Show the first few rows of the filtered DataFrame\n",
    "print(\"After filtering for Philippines:\")\n",
    "filtered_df.show()"
   ]
  },
  {
   "cell_type": "code",
   "execution_count": 17,
   "id": "90092510-bbf0-4cfe-b977-a737ac8f2185",
   "metadata": {},
   "outputs": [
    {
     "name": "stdout",
     "output_type": "stream",
     "text": [
      "+-----------+-----------------+\n",
      "|        age|total_suicides_no|\n",
      "+-----------+-----------------+\n",
      "|55-74 years|             2168|\n",
      "|25-34 years|             5358|\n",
      "| 5-14 years|              493|\n",
      "|  75+ years|              488|\n",
      "|15-24 years|             7107|\n",
      "|35-54 years|             5716|\n",
      "+-----------+-----------------+\n",
      "\n"
     ]
    }
   ],
   "source": [
    "#Group By\n",
    "\n",
    "# Cast the 'suicides_no' column to integers, ignoring non-numeric values\n",
    "filtered_df = filtered_df.withColumn('suicides_no', col('suicides_no').cast('integer'))\n",
    "\n",
    "# Group by the 'age' column and sum the 'suicides_no' column in each group\n",
    "grouped_by_age_df = filtered_df.groupBy('age').agg(sum('suicides_no').alias('total_suicides_no'))\n",
    "\n",
    "# Show the grouped DataFrame\n",
    "grouped_by_age_df.show()"
   ]
  },
  {
   "cell_type": "code",
   "execution_count": 18,
   "id": "42ec3d7a-a19b-4487-97b0-7d1c07dcadad",
   "metadata": {},
   "outputs": [
    {
     "name": "stdout",
     "output_type": "stream",
     "text": [
      "+-----------+-----------------+\n",
      "|        age|total_suicides_no|\n",
      "+-----------+-----------------+\n",
      "|15-24 years|             7107|\n",
      "|35-54 years|             5716|\n",
      "|25-34 years|             5358|\n",
      "|55-74 years|             2168|\n",
      "| 5-14 years|              493|\n",
      "|  75+ years|              488|\n",
      "+-----------+-----------------+\n",
      "\n"
     ]
    }
   ],
   "source": [
    "grouped_by_age_df = grouped_by_age_df.orderBy(\"total_suicides_no\", ascending=False)\n",
    "grouped_by_age_df.show()"
   ]
  },
  {
   "cell_type": "code",
   "execution_count": 19,
   "id": "b8f7a2fb-77c0-4ef3-b821-7b5031b8c1fc",
   "metadata": {},
   "outputs": [],
   "source": [
    "# grouped_by_age_df = grouped_by_age_df.withColumnRenamed(\"suicides_no\", \"total_suicides_no\")"
   ]
  },
  {
   "cell_type": "code",
   "execution_count": 20,
   "id": "60546390-fc7d-4a0e-8ad2-a6df34506524",
   "metadata": {},
   "outputs": [],
   "source": [
    "spark.stop()"
   ]
  }
 ],
 "metadata": {
  "kernelspec": {
   "display_name": "Python 3 (ipykernel)",
   "language": "python",
   "name": "python3"
  },
  "language_info": {
   "codemirror_mode": {
    "name": "ipython",
    "version": 3
   },
   "file_extension": ".py",
   "mimetype": "text/x-python",
   "name": "python",
   "nbconvert_exporter": "python",
   "pygments_lexer": "ipython3",
   "version": "3.10.8"
  }
 },
 "nbformat": 4,
 "nbformat_minor": 5
}
